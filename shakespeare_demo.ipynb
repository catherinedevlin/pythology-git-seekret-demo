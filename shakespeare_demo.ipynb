{
 "cells": [
  {
   "cell_type": "code",
   "execution_count": 1,
   "metadata": {},
   "outputs": [],
   "source": [
    "%load_ext sql"
   ]
  },
  {
   "cell_type": "code",
   "execution_count": 2,
   "metadata": {},
   "outputs": [
    {
     "data": {
      "text/plain": [
       "'Connected: hamlet@shakes'"
      ]
     },
     "execution_count": 2,
     "metadata": {},
     "output_type": "execute_result"
    }
   ],
   "source": [
    "%sql postgresql://hamlet:2Bornot@/shakes"
   ]
  },
  {
   "cell_type": "code",
   "execution_count": 3,
   "metadata": {},
   "outputs": [
    {
     "name": "stdout",
     "output_type": "stream",
     "text": [
      "5 rows affected.\n"
     ]
    },
    {
     "data": {
      "text/html": [
       "<table>\n",
       "    <tr>\n",
       "        <th>workid</th>\n",
       "        <th>title</th>\n",
       "        <th>longtitle</th>\n",
       "        <th>year</th>\n",
       "        <th>genretype</th>\n",
       "        <th>notes</th>\n",
       "        <th>source</th>\n",
       "        <th>totalwords</th>\n",
       "        <th>totalparagraphs</th>\n",
       "    </tr>\n",
       "    <tr>\n",
       "        <td>12night</td>\n",
       "        <td>Twelfth Night</td>\n",
       "        <td>Twelfth Night, Or What You Will</td>\n",
       "        <td>1599</td>\n",
       "        <td>c</td>\n",
       "        <td>None</td>\n",
       "        <td>Moby</td>\n",
       "        <td>19837</td>\n",
       "        <td>1031</td>\n",
       "    </tr>\n",
       "    <tr>\n",
       "        <td>allswell</td>\n",
       "        <td>All&#x27;s Well That Ends Well</td>\n",
       "        <td>All&#x27;s Well That Ends Well</td>\n",
       "        <td>1602</td>\n",
       "        <td>c</td>\n",
       "        <td>None</td>\n",
       "        <td>Moby</td>\n",
       "        <td>22997</td>\n",
       "        <td>1025</td>\n",
       "    </tr>\n",
       "    <tr>\n",
       "        <td>antonycleo</td>\n",
       "        <td>Antony and Cleopatra</td>\n",
       "        <td>Antony and Cleopatra</td>\n",
       "        <td>1606</td>\n",
       "        <td>t</td>\n",
       "        <td>None</td>\n",
       "        <td>Moby</td>\n",
       "        <td>24905</td>\n",
       "        <td>1344</td>\n",
       "    </tr>\n",
       "    <tr>\n",
       "        <td>asyoulikeit</td>\n",
       "        <td>As You Like It</td>\n",
       "        <td>As You Like It</td>\n",
       "        <td>1599</td>\n",
       "        <td>c</td>\n",
       "        <td>None</td>\n",
       "        <td>Gutenberg</td>\n",
       "        <td>21690</td>\n",
       "        <td>872</td>\n",
       "    </tr>\n",
       "    <tr>\n",
       "        <td>comedyerrors</td>\n",
       "        <td>Comedy of Errors</td>\n",
       "        <td>The Comedy of Errors</td>\n",
       "        <td>1589</td>\n",
       "        <td>c</td>\n",
       "        <td>None</td>\n",
       "        <td>Moby</td>\n",
       "        <td>14692</td>\n",
       "        <td>661</td>\n",
       "    </tr>\n",
       "</table>"
      ],
      "text/plain": [
       "[('12night', 'Twelfth Night', 'Twelfth Night, Or What You Will', 1599, 'c', None, 'Moby', 19837, 1031),\n",
       " ('allswell', \"All's Well That Ends Well\", \"All's Well That Ends Well\", 1602, 'c', None, 'Moby', 22997, 1025),\n",
       " ('antonycleo', 'Antony and Cleopatra', 'Antony and Cleopatra', 1606, 't', None, 'Moby', 24905, 1344),\n",
       " ('asyoulikeit', 'As You Like It', 'As You Like It', 1599, 'c', None, 'Gutenberg', 21690, 872),\n",
       " ('comedyerrors', 'Comedy of Errors', 'The Comedy of Errors', 1589, 'c', None, 'Moby', 14692, 661)]"
      ]
     },
     "execution_count": 3,
     "metadata": {},
     "output_type": "execute_result"
    }
   ],
   "source": [
    "%sql select * from work limit 5"
   ]
  },
  {
   "cell_type": "markdown",
   "metadata": {},
   "source": [
    "[18F Laptop script](https://github.com/18f/laptop)\n",
    "\n",
    "`curl -s https://raw.githubusercontent.com/18F/laptop/master/seekrets-install | bash -`\n",
    "\n",
    "[Fine then, inspect it.](https://github.com/18F/laptop/blob/master/seekrets-install)"
   ]
  },
  {
   "cell_type": "code",
   "execution_count": null,
   "metadata": {},
   "outputs": [],
   "source": []
  }
 ],
 "metadata": {
  "kernelspec": {
   "display_name": "Python 3",
   "language": "python",
   "name": "python3"
  },
  "language_info": {
   "codemirror_mode": {
    "name": "ipython",
    "version": 3
   },
   "file_extension": ".py",
   "mimetype": "text/x-python",
   "name": "python",
   "nbconvert_exporter": "python",
   "pygments_lexer": "ipython3",
   "version": "3.6.0"
  }
 },
 "nbformat": 4,
 "nbformat_minor": 2
}
